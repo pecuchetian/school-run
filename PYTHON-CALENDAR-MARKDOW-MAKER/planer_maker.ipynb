{
 "cells": [
  {
   "cell_type": "markdown",
   "metadata": {},
   "source": [
    "# Create Weekly Planer md Files for Joplin\n",
    "\n",
    "I want to use Joplin as a weekly planer. I find Joplin templates confusing, so what I want here is to simply have some markdown template for everyweek of every month of a given year, all organised into folders and subfolders to be easily imported into Joplin\n"
   ]
  },
  {
   "cell_type": "code",
   "execution_count": 75,
   "metadata": {},
   "outputs": [],
   "source": [
    "import calendar\n",
    "import os\n",
    "\n",
    "# the function to do it all\n",
    "def joplin_planner_for_year(year):\n",
    "    # create year folder\n",
    "    base_dir = \"AGENDA {}\".format(year)\n",
    "    \n",
    "    # day header\n",
    "    day_head = \"\"\"# {}\n",
    "\n",
    "|     |  UOC |  SCHOOL |  HOUSE | WORK |\n",
    "| --- | --- | --- | --- | --- |\n",
    "| Matí \t |\t\t|\t\t|\t\t|\t\t|\n",
    "| Migdia |\t\t|\t\t|\t\t|\t\t|\n",
    "| Tarda  |\t\t|\t\t|\t\t|\t\t|\n",
    "| Nit  \t |\t\t|\t\t|\t\t|\t\t|\n",
    "\n",
    "\n",
    "#### UOC\n",
    "- [ ] a\n",
    "\n",
    "#### SCHOOL\n",
    "- [ ] b\n",
    "\n",
    "#### HOUSE\n",
    "- [ ] c\n",
    "\n",
    "#### WORK\n",
    "- [ ] d\n",
    "\n",
    "\"\"\"\n",
    "    \n",
    "    \n",
    "    # calendar object\n",
    "    c = calendar.Calendar()\n",
    "    weekdaynames = calendar.day_name\n",
    "    monthnames = calendar.month_name\n",
    "    months = [c.monthdatescalendar(year, month) for month in range(1,13)]\n",
    "    \n",
    "    for m_i, month  in enumerate(months):\n",
    "        # create month folder\n",
    "        month_dir = os.path.join(base_dir, \"{:02d}-{}-{}\".format(m_i+1,monthnames[m_i+1].upper(), year))\n",
    "        os.makedirs(month_dir, exist_ok=True)\n",
    "        #print(\"{:02d}-{} {}\".format(m_i+1, monthnames[m_i+1], year))\n",
    "        for w_i, week in enumerate(month):\n",
    "            # create week md file\n",
    "            week_day_range = (week[0].strftime(\"%d%b-\")+week[6].strftime(\"%d%b\")).upper()\n",
    "            #print(week_day_range)\n",
    "            file_name = os.path.join(month_dir, \"WEEK {} [{}].md\".format(w_i+1, week_day_range))\n",
    "            f = open(file_name, 'w')\n",
    "            for day in week:\n",
    "                # create markdown string and append to file\n",
    "                f.write(day_head.format(day.strftime(\"%A %d of %B  %Y\")))\n",
    "                #print(day_head.format(day.strftime(\"%A %d of %B  %Y\")))\n",
    "            f.close()\n",
    "\n",
    "            \n",
    "# call the function\n",
    "joplin_planner_for_year(2022)"
   ]
  }
 ],
 "metadata": {
  "kernelspec": {
   "display_name": "Python [conda env:conda-env] *",
   "language": "python",
   "name": "conda-env-conda-env-py"
  },
  "language_info": {
   "codemirror_mode": {
    "name": "ipython",
    "version": 3
   },
   "file_extension": ".py",
   "mimetype": "text/x-python",
   "name": "python",
   "nbconvert_exporter": "python",
   "pygments_lexer": "ipython3",
   "version": "3.8.2"
  }
 },
 "nbformat": 4,
 "nbformat_minor": 4
}
